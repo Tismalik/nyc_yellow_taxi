{
 "cells": [
  {
   "cell_type": "code",
   "execution_count": 2,
   "metadata": {},
   "outputs": [],
   "source": [
    "import pandas as pd\n"
   ]
  },
  {
   "cell_type": "code",
   "execution_count": 3,
   "metadata": {},
   "outputs": [],
   "source": [
    "df = pd.read_csv('C:/Coding/dbt_project/yellow_taxi/seeds/zipcodes.csv')"
   ]
  },
  {
   "cell_type": "code",
   "execution_count": 4,
   "metadata": {},
   "outputs": [
    {
     "data": {
      "text/html": [
       "<div>\n",
       "<style scoped>\n",
       "    .dataframe tbody tr th:only-of-type {\n",
       "        vertical-align: middle;\n",
       "    }\n",
       "\n",
       "    .dataframe tbody tr th {\n",
       "        vertical-align: top;\n",
       "    }\n",
       "\n",
       "    .dataframe thead th {\n",
       "        text-align: right;\n",
       "    }\n",
       "</style>\n",
       "<table border=\"1\" class=\"dataframe\">\n",
       "  <thead>\n",
       "    <tr style=\"text-align: right;\">\n",
       "      <th></th>\n",
       "      <th>country_code</th>\n",
       "      <th>zipcode</th>\n",
       "      <th>place</th>\n",
       "      <th>state</th>\n",
       "      <th>state_code</th>\n",
       "      <th>province</th>\n",
       "      <th>province_code</th>\n",
       "      <th>community</th>\n",
       "      <th>community_code</th>\n",
       "      <th>latitude</th>\n",
       "      <th>longitude</th>\n",
       "    </tr>\n",
       "  </thead>\n",
       "  <tbody>\n",
       "    <tr>\n",
       "      <th>0</th>\n",
       "      <td>US</td>\n",
       "      <td>99553</td>\n",
       "      <td>Akutan</td>\n",
       "      <td>Alaska</td>\n",
       "      <td>AK</td>\n",
       "      <td>Aleutians East</td>\n",
       "      <td>13.0</td>\n",
       "      <td>NaN</td>\n",
       "      <td>NaN</td>\n",
       "      <td>54.1430</td>\n",
       "      <td>-165.7854</td>\n",
       "    </tr>\n",
       "    <tr>\n",
       "      <th>1</th>\n",
       "      <td>US</td>\n",
       "      <td>99571</td>\n",
       "      <td>Cold Bay</td>\n",
       "      <td>Alaska</td>\n",
       "      <td>AK</td>\n",
       "      <td>Aleutians East</td>\n",
       "      <td>13.0</td>\n",
       "      <td>NaN</td>\n",
       "      <td>NaN</td>\n",
       "      <td>55.1858</td>\n",
       "      <td>-162.7211</td>\n",
       "    </tr>\n",
       "    <tr>\n",
       "      <th>2</th>\n",
       "      <td>US</td>\n",
       "      <td>99583</td>\n",
       "      <td>False Pass</td>\n",
       "      <td>Alaska</td>\n",
       "      <td>AK</td>\n",
       "      <td>Aleutians East</td>\n",
       "      <td>13.0</td>\n",
       "      <td>NaN</td>\n",
       "      <td>NaN</td>\n",
       "      <td>54.8542</td>\n",
       "      <td>-163.4113</td>\n",
       "    </tr>\n",
       "    <tr>\n",
       "      <th>3</th>\n",
       "      <td>US</td>\n",
       "      <td>99612</td>\n",
       "      <td>King Cove</td>\n",
       "      <td>Alaska</td>\n",
       "      <td>AK</td>\n",
       "      <td>Aleutians East</td>\n",
       "      <td>13.0</td>\n",
       "      <td>NaN</td>\n",
       "      <td>NaN</td>\n",
       "      <td>55.0628</td>\n",
       "      <td>-162.3056</td>\n",
       "    </tr>\n",
       "    <tr>\n",
       "      <th>4</th>\n",
       "      <td>US</td>\n",
       "      <td>99661</td>\n",
       "      <td>Sand Point</td>\n",
       "      <td>Alaska</td>\n",
       "      <td>AK</td>\n",
       "      <td>Aleutians East</td>\n",
       "      <td>13.0</td>\n",
       "      <td>NaN</td>\n",
       "      <td>NaN</td>\n",
       "      <td>55.3192</td>\n",
       "      <td>-160.4914</td>\n",
       "    </tr>\n",
       "  </tbody>\n",
       "</table>\n",
       "</div>"
      ],
      "text/plain": [
       "  country_code  zipcode       place   state state_code        province  \\\n",
       "0           US    99553      Akutan  Alaska         AK  Aleutians East   \n",
       "1           US    99571    Cold Bay  Alaska         AK  Aleutians East   \n",
       "2           US    99583  False Pass  Alaska         AK  Aleutians East   \n",
       "3           US    99612   King Cove  Alaska         AK  Aleutians East   \n",
       "4           US    99661  Sand Point  Alaska         AK  Aleutians East   \n",
       "\n",
       "   province_code community  community_code  latitude  longitude  \n",
       "0           13.0       NaN             NaN   54.1430  -165.7854  \n",
       "1           13.0       NaN             NaN   55.1858  -162.7211  \n",
       "2           13.0       NaN             NaN   54.8542  -163.4113  \n",
       "3           13.0       NaN             NaN   55.0628  -162.3056  \n",
       "4           13.0       NaN             NaN   55.3192  -160.4914  "
      ]
     },
     "execution_count": 4,
     "metadata": {},
     "output_type": "execute_result"
    }
   ],
   "source": [
    "df.head(5)"
   ]
  },
  {
   "cell_type": "code",
   "execution_count": 6,
   "metadata": {},
   "outputs": [],
   "source": [
    "import duckdb as db\n",
    "query =  \"select country_code,zipcode,place,state,state_code,province,province_code, latitude, longitude  from ( select *, ROW_NUMBER() over(partition by province_code order by zipcode) as rn from df ) as tb where state = 'New York' and rn = 1\"\n",
    "\n",
    "tt = db.sql(query)"
   ]
  },
  {
   "cell_type": "code",
   "execution_count": 7,
   "metadata": {},
   "outputs": [
    {
     "data": {
      "text/plain": [
       "┌──────────────┬─────────┬────────────────┬──────────┬────────────┬─────────────┬───────────────┬──────────┬───────────┐\n",
       "│ country_code │ zipcode │     place      │  state   │ state_code │  province   │ province_code │ latitude │ longitude │\n",
       "│   varchar    │  int64  │    varchar     │ varchar  │  varchar   │   varchar   │    double     │  double  │  double   │\n",
       "├──────────────┼─────────┼────────────────┼──────────┼────────────┼─────────────┼───────────────┼──────────┼───────────┤\n",
       "│ US           │   14805 │ Alpine         │ New York │ NY         │ Schuyler    │          97.0 │   42.351 │  -76.7348 │\n",
       "│ US           │   12019 │ Ballston Lake  │ New York │ NY         │ Saratoga    │          91.0 │  42.9192 │  -73.8552 │\n",
       "│ US           │   13054 │ Durhamville    │ New York │ NY         │ Oneida      │          65.0 │  43.1579 │  -75.6714 │\n",
       "│ US           │   14415 │ Bellona        │ New York │ NY         │ Yates       │         123.0 │  42.7554 │  -77.0217 │\n",
       "│ US           │   13324 │ Cold Brook     │ New York │ NY         │ Herkimer    │          43.0 │  43.3024 │  -74.9977 │\n",
       "│ US           │   14529 │ Perkinsville   │ New York │ NY         │ Steuben     │         101.0 │  42.5398 │  -77.6283 │\n",
       "│ US           │   12064 │ East Worcester │ New York │ NY         │ Otsego      │          77.0 │  42.6321 │  -74.6674 │\n",
       "│ US           │   10501 │ Amawalk        │ New York │ NY         │ Westchester │         119.0 │  41.2946 │  -73.7611 │\n",
       "│ US           │   11001 │ Floral Park    │ New York │ NY         │ Nassau      │          59.0 │  40.7236 │  -73.7058 │\n",
       "│ US           │   10910 │ Arden          │ New York │ NY         │ Orange      │          71.0 │  41.2745 │  -74.1529 │\n",
       "│ ·            │     ·   │   ·            │    ·     │ ·          │   ·         │            ·  │     ·    │      ·    │\n",
       "│ ·            │     ·   │   ·            │    ·     │ ·          │   ·         │            ·  │     ·    │      ·    │\n",
       "│ ·            │     ·   │   ·            │    ·     │ ·          │   ·         │            ·  │     ·    │      ·    │\n",
       "│ US           │   12057 │ Eagle Bridge   │ New York │ NY         │ Washington  │         115.0 │  42.9808 │  -73.3522 │\n",
       "│ US           │   10001 │ New York       │ New York │ NY         │ New York    │          61.0 │  40.7484 │  -73.9967 │\n",
       "│ US           │   14098 │ Lyndonville    │ New York │ NY         │ Orleans     │          73.0 │  43.3233 │  -78.3811 │\n",
       "│ US           │   14410 │ Adams Basin    │ New York │ NY         │ Monroe      │          55.0 │  43.1953 │  -77.8559 │\n",
       "│ US           │   12031 │ Carlisle       │ New York │ NY         │ Schoharie   │          95.0 │  42.7648 │  -74.4569 │\n",
       "│ US           │   12701 │ Monticello     │ New York │ NY         │ Sullivan    │         105.0 │  41.6516 │  -74.7007 │\n",
       "│ US           │   13143 │ Red Creek      │ New York │ NY         │ Wayne       │         117.0 │  43.2291 │  -76.7146 │\n",
       "│ US           │   11004 │ Glen Oaks      │ New York │ NY         │ Queens      │          81.0 │  40.7481 │  -73.7114 │\n",
       "│ US           │   10901 │ Suffern        │ New York │ NY         │ Rockland    │          87.0 │  41.1177 │  -74.1241 │\n",
       "│ US           │     501 │ Holtsville     │ New York │ NY         │ Suffolk     │         103.0 │  40.8154 │  -73.0451 │\n",
       "├──────────────┴─────────┴────────────────┴──────────┴────────────┴─────────────┴───────────────┴──────────┴───────────┤\n",
       "│ 41 rows (20 shown)                                                                                         9 columns │\n",
       "└──────────────────────────────────────────────────────────────────────────────────────────────────────────────────────┘"
      ]
     },
     "execution_count": 7,
     "metadata": {},
     "output_type": "execute_result"
    }
   ],
   "source": [
    "tt"
   ]
  },
  {
   "cell_type": "code",
   "execution_count": 14,
   "metadata": {},
   "outputs": [
    {
     "data": {
      "text/plain": [
       "┌─────────┐\n",
       "│ mycount │\n",
       "│  int64  │\n",
       "├─────────┤\n",
       "│ 0 rows  │\n",
       "└─────────┘"
      ]
     },
     "execution_count": 14,
     "metadata": {},
     "output_type": "execute_result"
    }
   ],
   "source": [
    "query1 = \"select count(province_code) as mycount from tt group by province_code having count(province_code) > 1\"\n",
    "db.sql(query1)"
   ]
  },
  {
   "cell_type": "code",
   "execution_count": null,
   "metadata": {},
   "outputs": [],
   "source": []
  }
 ],
 "metadata": {
  "kernelspec": {
   "display_name": "dbt",
   "language": "python",
   "name": "python3"
  },
  "language_info": {
   "codemirror_mode": {
    "name": "ipython",
    "version": 3
   },
   "file_extension": ".py",
   "mimetype": "text/x-python",
   "name": "python",
   "nbconvert_exporter": "python",
   "pygments_lexer": "ipython3",
   "version": "3.12.2"
  }
 },
 "nbformat": 4,
 "nbformat_minor": 2
}
